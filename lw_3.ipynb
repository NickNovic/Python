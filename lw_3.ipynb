{
  "cells": [
    {
      "metadata": {
        "id": "e9c397d9723b81f9"
      },
      "cell_type": "markdown",
      "source": [
        "# Лабораторная №3"
      ],
      "id": "e9c397d9723b81f9"
    },
    {
      "metadata": {
        "id": "e9126e1929543902"
      },
      "cell_type": "markdown",
      "source": [
        "## Регулярные выражения"
      ],
      "id": "e9126e1929543902"
    },
    {
      "metadata": {
        "id": "5c13064c49a1b748"
      },
      "cell_type": "markdown",
      "source": [
        "В нашем магазине все товарные коды всегда имеют формат \"B123\", где \"B\" — это буква, а \"123\" — цифры. Напишите программу, которая проверяет, соответствует ли товарный код этому формату."
      ],
      "id": "5c13064c49a1b748"
    },
    {
      "metadata": {
        "id": "5be394ea56bf93bc"
      },
      "cell_type": "code",
      "outputs": [],
      "execution_count": 1,
      "source": [
        "import re"
      ],
      "id": "5be394ea56bf93bc"
    },
    {
      "cell_type": "code",
      "id": "initial_id",
      "metadata": {
        "collapsed": true,
        "ExecuteTime": {
          "end_time": "2024-12-09T12:27:44.569398Z",
          "start_time": "2024-12-09T12:27:44.567658Z"
        },
        "colab": {
          "base_uri": "https://localhost:8080/"
        },
        "id": "initial_id",
        "outputId": "1ff7fe70-e35a-4c59-a1fc-f6982b96f6c2"
      },
      "source": [
        "def check_product_code(code):\n",
        "    pattern = r\"^[A-Za-z]\\d{3}$\"\n",
        "    return bool(re.match(pattern, code))\n",
        "\n",
        "\n",
        "product_code  = \"B152\"\n",
        "result = check_product_code(product_code )\n",
        "print(result)\n"
      ],
      "outputs": [
        {
          "output_type": "stream",
          "name": "stdout",
          "text": [
            "True\n"
          ]
        }
      ],
      "execution_count": 9
    },
    {
      "metadata": {
        "id": "4bc60da9bced479c"
      },
      "cell_type": "markdown",
      "source": [
        "Нам часто поступает список книг в виде строки, где данные о каждой книге разделены пробелами или запятыми. Напишите программу, которая будет извлекать информацию о каждой книге (название, автор, год издания) и выводить их по категориям."
      ],
      "id": "4bc60da9bced479c"
    },
    {
      "metadata": {
        "ExecuteTime": {
          "end_time": "2024-12-09T12:43:35.644847Z",
          "start_time": "2024-12-09T12:43:35.640972Z"
        },
        "colab": {
          "base_uri": "https://localhost:8080/"
        },
        "id": "b4dd5b399b1fb610",
        "outputId": "f6ff8fd0-f081-4427-b02c-97209679d6e6"
      },
      "cell_type": "code",
      "source": [
        "def extract_book_info(data):\n",
        "    parts = re.split(r'\\s*,\\s*', data)\n",
        "    titles, authors, years = [], [], []\n",
        "\n",
        "    for i in range(0, len(parts), 3):\n",
        "        titles.append(parts[i])\n",
        "        authors.append(parts[i+1])\n",
        "        years.append(parts[i+2])\n",
        "\n",
        "    return titles, authors, years\n",
        "\n",
        "data = \"The Great Gatsby,F. Scott Fitzgerald,1925,1984,George Orwell,1949,To Kill a Mockingbird,Harper Lee,1960\"\n",
        "titles, authors, years = extract_book_info(data)\n",
        "\n",
        "print(\"Titles:\", titles)\n",
        "print(\"Authors:\", authors)\n",
        "print(\"Years:\", years)"
      ],
      "id": "b4dd5b399b1fb610",
      "outputs": [
        {
          "output_type": "stream",
          "name": "stdout",
          "text": [
            "Titles: ['The Great Gatsby', '1984', 'To Kill a Mockingbird']\n",
            "Authors: ['F. Scott Fitzgerald', 'George Orwell', 'Harper Lee']\n",
            "Years: ['1925', '1949', '1960']\n"
          ]
        }
      ],
      "execution_count": 11
    },
    {
      "metadata": {
        "id": "3bb615a06135b91a"
      },
      "cell_type": "markdown",
      "source": [
        "Нам необходимо собирать контактные данные клиентов.\n",
        "Напишите программу, которая проверяет, соответствует ли введенный адрес электронной почты клиента **правильному** формату."
      ],
      "id": "3bb615a06135b91a"
    },
    {
      "metadata": {
        "id": "ac585e1b9812306b"
      },
      "cell_type": "markdown",
      "source": [
        "Правильный формат адреса электронной почты обычно определяется следующими правилами:\n",
        "\n",
        "1. **Имя пользователя (local part)**:\n",
        "   - Может содержать буквы, цифры, точки (`.`), дефисы (`-`), знаки подчеркивания (`_`).\n",
        "   - Не может начинаться или заканчиваться точкой (`.`).\n",
        "   - Не допускается последовательность точек (`..`).\n",
        "\n",
        "2. **Символ `@`**:\n",
        "   - Разделяет имя пользователя и домен.\n",
        "   - Должен присутствовать ровно один раз.\n",
        "\n",
        "3. **Доменная часть (domain)**:\n",
        "   - Состоит из букв, цифр, дефисов (`-`) и точек (`.`).\n",
        "   - Должен содержать хотя бы одну точку.\n",
        "   - Доменное имя не может начинаться или заканчиваться дефисом (`-`) или точкой (`.`).\n",
        "\n",
        "4. **Домен верхнего уровня (TLD)**:\n",
        "   - Обычно состоит из 2 или более букв (например, `.com`, `.org`, `.ru`).\n",
        "\n",
        "\n",
        "\n",
        "#### Примеры ввода и проверки:\n",
        "- **Допустимые адреса**:\n",
        "  - `example@gmail.com`\n",
        "  - `user.name@sub.domain.org`\n",
        "  - `first_last123@domain.co.uk`\n",
        "\n",
        "- **Недопустимые адреса**:\n",
        "  - `user@.com` (домен не может начинаться с точки)\n",
        "  - `@domain.com` (нет имени пользователя)\n",
        "  - `user@domain` (нет TLD)\n",
        "  - `user@@domain.com` (две `@`)"
      ],
      "id": "ac585e1b9812306b"
    },
    {
      "metadata": {
        "ExecuteTime": {
          "end_time": "2024-12-09T22:35:30.798046Z",
          "start_time": "2024-12-09T22:35:30.786449Z"
        },
        "colab": {
          "base_uri": "https://localhost:8080/"
        },
        "id": "20e834bfb2499f8c",
        "outputId": "85125e84-c662-4175-d160-8ea52080235f"
      },
      "cell_type": "code",
      "source": [
        "def check_email_format(email):\n",
        "    pattern = r\"\"\"\n",
        "    ^\n",
        "    (?![.])\n",
        "    (?!.*[.]{2})\n",
        "    [A-Za-z0-9._-]+\n",
        "    (?<![.])\n",
        "    @\n",
        "    (?![-.])\n",
        "    (?:[A-Za-z0-9-]+\\.)+\n",
        "    [A-Za-z]{2,}\n",
        "    $\n",
        "    \"\"\"\n",
        "    return bool(re.match(pattern, email, re.VERBOSE))\n",
        "\n",
        "email = \"owner@example.com\"\n",
        "result = check_email_format(email)\n",
        "print(result)\n"
      ],
      "id": "20e834bfb2499f8c",
      "outputs": [
        {
          "output_type": "stream",
          "name": "stdout",
          "text": [
            "True\n"
          ]
        }
      ],
      "execution_count": 21
    },
    {
      "metadata": {
        "id": "1cbf05c36d87598d"
      },
      "cell_type": "markdown",
      "source": [
        "Иногда клиенты могут указывать свои пищевые ограничения.\n",
        "Напишите программу, которая проверяет, упоминаются ли в записи ограничения на определенные продукты, такие как \"глютен\", \"лактоза\" или \"орехи\"."
      ],
      "id": "1cbf05c36d87598d"
    },
    {
      "metadata": {
        "colab": {
          "base_uri": "https://localhost:8080/"
        },
        "id": "4310d3bfe276a135",
        "outputId": "a8900915-855f-4fae-b525-c32df00cc84b"
      },
      "cell_type": "code",
      "outputs": [
        {
          "output_type": "stream",
          "name": "stdout",
          "text": [
            "Dietary restrictions detected.\n"
          ]
        }
      ],
      "execution_count": 24,
      "source": [
        "def check_restrictions(data):\n",
        "    pattern = r'\\b(gluten|lactose|nuts)\\b'\n",
        "    return bool(re.search(pattern, data, re.IGNORECASE))\n",
        "\n",
        "client_data = \"My diet excludes products containing lactose and gluten.\"\n",
        "\n",
        "if check_restrictions(client_data):\n",
        "    print(\"Dietary restrictions detected.\")\n",
        "else:\n",
        "    print(\"No dietary restrictions detected.\")"
      ],
      "id": "4310d3bfe276a135"
    },
    {
      "metadata": {
        "id": "e8561ff50da1f5f8"
      },
      "cell_type": "markdown",
      "source": [
        "Предположим, у вас есть текст, который может содержать несколько телефонных номеров. Каждый номер телефона записан в формате:\n",
        "\n",
        "- `(XXX) XXX-XXXX`\n",
        "- `XXX-XXX-XXXX`\n",
        "- `XXX.XXX.XXXX`\n",
        "- `XXX XXX XXXX`\n",
        "\n",
        "Где `X` — цифра от 0 до 9.\n",
        "\n",
        "Напишите программу, которая будет искать все телефонные номера в тексте и выводить их.\n"
      ],
      "id": "e8561ff50da1f5f8"
    },
    {
      "metadata": {
        "colab": {
          "base_uri": "https://localhost:8080/"
        },
        "id": "2e021001b77dffe7",
        "outputId": "f82fd68f-6b89-4bdf-babc-5a02b0ec9420"
      },
      "cell_type": "code",
      "outputs": [
        {
          "output_type": "stream",
          "name": "stdout",
          "text": [
            "['(123) 456-7890', '987-654-3210', '555.555.5555', '111 222 3333']\n"
          ]
        }
      ],
      "execution_count": 26,
      "source": [
        "def extract_phone_numbers(text):\n",
        "    pattern = r'\\(?\\d{3}\\)?[ .-]\\d{3}[ .-]\\d{4}'\n",
        "    return re.findall(pattern, text)\n",
        "\n",
        "text = \"Hi, here are some phone numbers: (123) 456-7890, 987-654-3210, 555.555.5555, 111 222 3333.\"\n",
        "print(extract_phone_numbers(text)) #['(123) 456-7890', '987-654-3210', '555.555.5555', '111 222 3333']"
      ],
      "id": "2e021001b77dffe7"
    }
  ],
  "metadata": {
    "kernelspec": {
      "display_name": "Python 3",
      "language": "python",
      "name": "python3"
    },
    "language_info": {
      "codemirror_mode": {
        "name": "ipython",
        "version": 2
      },
      "file_extension": ".py",
      "mimetype": "text/x-python",
      "name": "python",
      "nbconvert_exporter": "python",
      "pygments_lexer": "ipython2",
      "version": "2.7.6"
    },
    "colab": {
      "provenance": []
    }
  },
  "nbformat": 4,
  "nbformat_minor": 5
}
