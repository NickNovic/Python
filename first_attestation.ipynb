{
  "metadata": {
    "kernelspec": {
      "name": "python",
      "display_name": "Python (Pyodide)",
      "language": "python"
    },
    "language_info": {
      "codemirror_mode": {
        "name": "python",
        "version": 3
      },
      "file_extension": ".py",
      "mimetype": "text/x-python",
      "name": "python",
      "nbconvert_exporter": "python",
      "pygments_lexer": "ipython3",
      "version": "3.8"
    }
  },
  "nbformat_minor": 5,
  "nbformat": 4,
  "cells": [
    {
      "id": "1453fbd5e471a5cd",
      "cell_type": "markdown",
      "source": "# Аттестация №1",
      "metadata": {}
    },
    {
      "id": "1db49e463da46021",
      "cell_type": "markdown",
      "source": "### Задание №1\nНапишите программу, которая принимает словарь `input_dict` и возвращает строку вида: `ключ=значение&ключ=значение`\n\nСтрока должна быть лексикографически отсортирована по ключам исходного словаря. Сохраните полученный ответ в `result`.",
      "metadata": {}
    },
    {
      "id": "initial_id",
      "cell_type": "code",
      "source": "input_dict = {'lesson': 2, 'task': 4, 'course': 'python'}\nresult = 'course=python&lesson=2&task=4'",
      "metadata": {
        "ExecuteTime": {
          "end_time": "2024-12-09T13:15:08.317204Z",
          "start_time": "2024-12-09T13:15:08.313520Z"
        },
        "trusted": true
      },
      "outputs": [],
      "execution_count": 1
    },
    {
      "id": "4025e26c2e18bc2f",
      "cell_type": "code",
      "source": "# Напиши решение тут\ninput_dict = {'lesson': 2, 'task': 4, 'course': 'python'}\n\nsorted_keys = sorted(input_dict.keys())\ninput_dict = {i: input_dict[i] for i in sorted_keys}\n\nlisted_values = [f\"{i}={ input_dict[i]}\" for i in input_dict];\n\nresult = \"&\".join(listed_values);\n\nprint(result)",
      "metadata": {
        "trusted": true
      },
      "outputs": [
        {
          "name": "stdout",
          "output_type": "stream",
          "text": "course=python&lesson=2&task=4\n"
        }
      ],
      "execution_count": 2
    },
    {
      "id": "782b3120fa932c5d",
      "cell_type": "markdown",
      "source": "### Задание №2\nНапишите программу, которая будет принимать число n и проверять, кратна ли каждая его цифра цифре, стоящей слева от нее. Ответ сохраните в `result` в виде массива булевых значений результатов проверок.\n\n`result` всегда должен начинаться с False, так как слева от первой цифры ничего нет.\n\nПример:\n```python\nn = 462825624\nresult = [False, False, False, True, False, False, False, False, True]\n```",
      "metadata": {}
    },
    {
      "id": "657f2f13cbfa3383",
      "cell_type": "code",
      "source": "# Напиши решение тут\nn = 462825624\n\ndigits = list(map(int, str(n)))\n\nresult = [False]\nresult.extend([digits[i] % digits[i-1] == 0 for i in range(1, len(digits))])\n\nprint(result)",
      "metadata": {
        "ExecuteTime": {
          "end_time": "2024-12-17T21:00:28.477188Z",
          "start_time": "2024-12-17T21:00:28.475122Z"
        },
        "trusted": true
      },
      "outputs": [
        {
          "name": "stdout",
          "output_type": "stream",
          "text": "[False, False, False, True, False, False, False, False, True]\n"
        }
      ],
      "execution_count": 3
    },
    {
      "id": "68f16e7b8c3ee89b",
      "cell_type": "markdown",
      "source": "### Задание №3\nНапишите программу, которая анализирует введенный текст и возвращает статистику. Требуется реализовать **несколько функций**, каждая из которых будет выполнять определенную задачу.\n\n---\n\n**Остановимся более подробно:**\n1. Напишите функцию **`count_letters(text)`**, которая возвращает количество букв (только латиницы и кириллицы) в тексте.\n2. Напишите функцию **`count_digits(text)`**, которая возвращает количество цифр.\n3. Напишите функцию **`count_words(text)`**, которая возвращает количество слов. Слово — это последовательность букв.\n4. Напишите функцию **`analyze_text(text)`**, которая вызывает все вышеперечисленные функции и возвращает общий результат в виде словаря:\n   ```python\n   {\n       \"letters\": <количество букв>,\n       \"digits\": <количество цифр>,\n       \"words\": <количество слов>\n   }\n   ```\n5. Выведите результат работы функции **`analyze_text`** для введенной строки.\n\n\n**Пример работы программы:**\n\nВвод:\n```\nВведите текст: Привет, это тестовый текст 123, с 7 словами!\n```\n\nВывод:\n```\nАнализ текста:\nКоличество букв: 24\nКоличество цифр: 4\nКоличество слов: 7\n```\n\n\n\n",
      "metadata": {}
    },
    {
      "id": "dc3147cbb4f8da7c",
      "cell_type": "code",
      "source": "# Напиши решение тут\nimport re\n\ndef count_words(text):\n    words = re.findall(r\"\\b\\w+\\b\", text) \n    return len(words) \n\ndef count_digits(text):\n    digits = re.findall(\"[0-9]\", text)\n    return len(digits)\n\ndef count_letters(text):\n    letters = re.findall(\"[a-zA-Zа-яА-ЯёЁ]\", text)\n    return len(letters)\n\ndef analize_text(text):\n    letters = count_letters(text)\n    digits = count_digits(text)\n    words = count_words(text)\n    stats = {\n        'letters': letters,\n        'digits': digits,\n        'words': words }\n    return stats\n\ninpt = input(\"Введите текст: \")\ninpt = str(inpt)\nresult = analize_text(inpt)\n\nprint(result)",
      "metadata": {
        "trusted": true
      },
      "outputs": [
        {
          "name": "stdout",
          "output_type": "stream",
          "text": "{'letters': 48, 'digits': 0, 'words': 5}\n"
        },
        {
          "output_type": "stream",
          "name": "stdin",
          "text": "Введите текст:  fdsfdsfds\n"
        }
      ],
      "execution_count": 12
    },
    {
      "id": "9b4c0041c65b1ef2",
      "cell_type": "markdown",
      "source": "### Задача: Распределение учеников по факультетам Хогвартса\n\nВ Хогвартсе проходит церемония распределения первокурсников. На основании качеств, которые видит распределяющая шляпа, учеников зачисляют на один из факультетов:  \n\n- **Гриффиндор**: отвага, доброта, решительность.  \n- **Пуффендуй**: усердие, дружелюбие, терпимость.  \n- **Когтевран**: знание, изобретательность, рассудительность.  \n- **Слизерин**: амбиции, находчивость, целеустремленность.  \n\nНеобходимо реализовать функцию `sorting_hat()`, которая принимает словарь с учениками, где:  \n- **Ключ** — имя ученика.  \n- **Значение** — качество, определяющее его факультет.  \n\nФункция должна вернуть два результата:  \n\n1. **sorted_students** — словарь, где ключ — имя ученика, а значение — факультет, на который он зачислен.  \n   - Данные должны быть отсортированы по названию факультета, а затем по имени ученика.  \n\n2. **departments** — словарь, где ключ — факультет, а значение — количество зачисленных учеников.  \n   - Данные должны быть отсортированы по названию факультета.  \n\n### Пример входных данных:  \n```python\nnew_students = {\n    'Сириус Блэк': 'отвага',\n    'Аманда Коршун': 'знание',\n    'Пенелопа Вулпинголд': 'находчивость',\n    'Артур Поттер': 'отвага',\n    'Тесая Блэк': 'изобретательность'\n}\n```\n\n### Пример результата:  \n```python\n# sorted_students:\n{\n    'Артур Поттер': 'Гриффиндор',\n    'Сириус Блэк': 'Гриффиндор',\n    'Аманда Коршун': 'Когтевран',\n    'Тесая Блэк': 'Когтевран',\n    'Пенелопа Вулпинголд': 'Слизерин'\n}\n\n# departments:\n{\n    'Гриффиндор': 2,\n    'Когтевран': 2,\n    'Пуффендуй': 0,\n    'Слизерин': 1\n}\n```",
      "metadata": {}
    },
    {
      "id": "4385d4b355c7121f",
      "cell_type": "code",
      "source": "# Напиши решение тут\nfaculties_dict = {\n    'Гриффиндор': ['отвага', 'доброта', 'решительность'], \n    'Пуффендуй': ['усердие', 'дружелюбие', 'терпимость'],\n    'Когтевран': ['знание', 'изобретательность', 'рассудительность'], \n    'Слизерин':  ['амбиции', 'находчивость', 'целеустремленность'],\n}\n\ndef sorting_hat(students):\n    for i in students.keys():\n        for j in faculties_dict.keys():\n            if students[i] in faculties_dict[j]:\n                students[i] = j\n                break\n\n    sorted_students = dict(sorted(students.items(), key=lambda item: (item[1], item[0])))\n    \n    departments = {i: 0 for i in faculties_dict.keys()}\n    for i in sorted_students:\n        departments[sorted_students[i]]+=1\n    \n    departments = dict(sorted(departments.items()))\n    \n    return sorted_students, departments\n\nnew_students = {\n    'Сириус Блэк': 'отвага',\n    'Аманда Коршун': 'знание',\n    'Пенелопа Вулпинголд': 'находчивость',\n    'Артур Поттер': 'отвага',\n    'Тесая Блэк': 'изобретательность'\n}\nstudents, deps = sorting_hat(new_students)\nprint(students, deps)",
      "metadata": {
        "trusted": true
      },
      "outputs": [
        {
          "name": "stdout",
          "output_type": "stream",
          "text": "{'Артур Поттер': 'Гриффиндор', 'Сириус Блэк': 'Гриффиндор', 'Аманда Коршун': 'Когтевран', 'Тесая Блэк': 'Когтевран', 'Пенелопа Вулпинголд': 'Слизерин'} {'Гриффиндор': 2, 'Когтевран': 2, 'Пуффендуй': 0, 'Слизерин': 1}\n"
        }
      ],
      "execution_count": 34
    },
    {
      "id": "ac789ebd9aa897d9",
      "cell_type": "markdown",
      "source": "### Задание №5\nВ `my_string`  хранится зашифрованная строка, например:\n```python\n# Зашифрованная строка\nmy_string = 'sccfxpzijc is fuc bcd sxcizicg'\n```\nВ словаре `secret_dict`  хранится ключ к шифру, набор символов, которые нужно заменить:\n```python\n# Словарь шифра\n\nsecret_dict = {\n'v': 'w',\n'x': 'y',\n'i': 'h',\n'q': 'l',\n'c': 'n',\n'o': 'm',\n'b': 'a',\n'f': 'r',\n'j': 'o',\n's': 'e',\n'z': 't',\n'g': 'k',\n'l': ' ',\n'k': 'c',\n'm': 'p',\n'n': 'i',\n'w': 's',\n'd': 'f',\n'u': 'u',\n'r': 'd',\n'e': 'x',\n'y': 'g'}\n```\nТаким образом, словарь `secret_dict` говорит нам, что в строке `my_string` букву `v` нужно заменить на `m`, `s` на 'e' и т. д. Если мы сделаем такие замены в строке my_string, то `sckfxmznjclnwlduclbcrlseknzncy` превратится в `encryption is fun and exciting`.\n\nНапишите программу, которая расшифровывает строку `my_string = 'nlbolyjccblyszlblzsclnclmxzijc'` при помощи словаря secret_dict. Расшифрованную строку сохраните в переменную decrypted_string.",
      "metadata": {}
    },
    {
      "id": "48c201ee026f8ae5",
      "cell_type": "code",
      "source": "# Напиши решение тут\nsecret_dict = {\n'v': 'w',\n'x': 'y',\n'i': 'h',\n'q': 'l',\n'c': 'n',\n'o': 'm',\n'b': 'a',\n'f': 'r',\n'j': 'o',\n's': 'e',\n'z': 't',\n'g': 'k',\n'l': ' ',\n'k': 'c',\n'm': 'p',\n'n': 'i',\n'w': 's',\n'd': 'f',\n'u': 'u',\n'r': 'd',\n'e': 'x',\n'y': 'g'}\n\nm_string = 'nlbolyjccblyszlblzsclnclmxzijc'\n\ndecrypted_string = \"\"\nfor i in range(len(m_string)):\n    decrypted_string += secret_dict[m_string[i]]\n\nprint(decrypted_string)",
      "metadata": {
        "ExecuteTime": {
          "end_time": "2024-12-17T20:56:24.178896Z",
          "start_time": "2024-12-17T20:56:24.175887Z"
        },
        "trusted": true
      },
      "outputs": [
        {
          "name": "stdout",
          "output_type": "stream",
          "text": "i am gonna get a ten in python\n"
        }
      ],
      "execution_count": 51
    },
    {
      "id": "2a249950-bf9e-4723-8a8a-e5ae30d7b915",
      "cell_type": "code",
      "source": "",
      "metadata": {
        "trusted": true
      },
      "outputs": [],
      "execution_count": null
    }
  ]
}